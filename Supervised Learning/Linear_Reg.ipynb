{
 "cells": [
  {
   "cell_type": "markdown",
   "id": "2b7dacb7-f625-4d9d-b75c-f37229eae865",
   "metadata": {},
   "source": [
    "## LINEAR REGRESSION FROM SCRATCH "
   ]
  },
  {
   "cell_type": "markdown",
   "id": "1a44f06a-c4e0-4b73-84a6-23521a5f26f5",
   "metadata": {},
   "source": [
    "### Iterative approach "
   ]
  },
  {
   "cell_type": "code",
   "execution_count": null,
   "id": "9059ebad-2e67-4807-8738-5da7c6d9c027",
   "metadata": {},
   "outputs": [],
   "source": [
    "# Importing libaries \n",
    "import numpy as np \n",
    "import pandas as pd\n",
    "import streamlit as st \n",
    "from sklearn.model_selection import train_test_split\n",
    "from sklearn.metrics import mean_absolute_error, mean_squared_error,  r2_score\n",
    "import matplotlib.pyplot as plt \n",
    "import seaborn as sns "
   ]
  },
  {
   "cell_type": "code",
   "execution_count": null,
   "id": "f6bf22e3",
   "metadata": {},
   "outputs": [],
   "source": [
    "# model function to be used in the web app \n",
    "def model(x_train, y_train, x_test, y_test):\n",
    "    lg = LinearReg()\n",
    "    lg.fit(x_train, y_train)\n",
    "    prediction = lg.predict(x_test)\n",
    "    st.write(\"Here's the Actual v/s Predicted plot\")\n",
    "    ploty(y_test, prediction)\n",
    "    accuracy(y_test, prediction)"
   ]
  },
  {
   "cell_type": "code",
   "execution_count": 33,
   "id": "15d0bd9d-27f6-4d5c-b503-41b67e6c14ad",
   "metadata": {},
   "outputs": [],
   "source": [
    "# My class\n",
    "class LinearReg():\n",
    "    \n",
    "    # constructor \n",
    "    def __init__(self, learning_rate = 0.0001, iterations = 1000):\n",
    "        self.lr = learning_rate \n",
    "        self.epochs = iterations \n",
    "        self.weights = None\n",
    "        self.b = 0\n",
    "        \n",
    "    # fit method \n",
    "    def fit(self, x_train, y_train):\n",
    "        self.rows, self.columns = x_train.shape\n",
    "        self.weights = np.zeros(self.columns)\n",
    "        # calling the helper function to update the weights \n",
    "        for i in range(self.epochs):\n",
    "            self.update_weights(x_train, y_train)\n",
    "        return self\n",
    "        \n",
    "    # helper method \n",
    "    def update_weights(self, x_train, y_train):\n",
    "        y_pred = self.predict(x_train)\n",
    "        # calculating the gradients \n",
    "        d_w = (-2 * x_train.T.dot(y_train - y_pred)) / self.rows\n",
    "        d_b = (-2 * np.sum(y_train - y_pred)) / self.rows\n",
    "        #  updating \n",
    "        self.weights -= self.lr * d_w\n",
    "        self.b -= self.lr * d_b\n",
    "\n",
    "    # predict function \n",
    "    def predict(self, x_test):\n",
    "        return x_test.dot(self.weights) + self.b"
   ]
  },
  {
   "cell_type": "code",
   "execution_count": null,
   "id": "1202eabc",
   "metadata": {},
   "outputs": [],
   "source": [
    "# Plot function\n",
    "def ploty(y_test, prediction):\n",
    "    plt.figure(figsize=(10, 6))\n",
    "    plt.scatter(y_test, prediction, color='blue', alpha=0.7)\n",
    "    plt.plot([y_test.min(), y_test.max()], # X-axis value range \n",
    "             [y_test.min(), y_test.max()], # Y-axis value range\n",
    "             linestyle = '--', color = 'red', lw = 2)\n",
    "    plt.xlabel('Actual Values')\n",
    "    plt.ylabel('Predicted Values')\n",
    "    plt.title('Actual vs Predicted Values')\n",
    "    plt.grid(True)\n",
    "    st.pyplot(plt)"
   ]
  },
  {
   "cell_type": "code",
   "execution_count": 37,
   "id": "34c54fd4-7baa-41a7-a509-57137ff000d2",
   "metadata": {},
   "outputs": [
    {
     "name": "stdout",
     "output_type": "stream",
     "text": [
      "Mean Absolute Error (MAE): 5697.759200501575\n",
      "Mean Squared Error (MSE): 40406720.617579065\n",
      "Root Mean Squared Error (RMSE): 6356.62808551665\n",
      "R² Score: -0.7444233200138068\n"
     ]
    }
   ],
   "source": [
    "# Accuracy function\n",
    "def accuracy(y_test, prediction):\n",
    "    mae = mean_absolute_error(y_test, prediction)\n",
    "    mse = mean_squared_error(y_test, prediction)\n",
    "    rmse = np.sqrt(mse)\n",
    "    r2 = r2_score(y_test, prediction)\n",
    "    metrics = pd.DataFrame(\n",
    "        {\n",
    "            \"Metrics\" : [\"MAE\", \"MSE\", \"RMSE\", \"R2_Score\"],\n",
    "            \"Score\" : [mae, mse, rmse, r2]\n",
    "        }\n",
    "    )\n",
    "    # printing them \n",
    "    st.write(\"Accuracy Metrics of the Model\\n\", metrics)\n"
   ]
  },
  {
   "cell_type": "markdown",
   "id": "94371a4a-2bcd-459b-8732-17e38c8a0769",
   "metadata": {},
   "source": [
    "#### Note :\n",
    "\n",
    "If self.columns comes from a Pandas DataFrame, then np.zeros(self.columns) will inherit the index (column names) from Pandas, making self.weights a Pandas Series instead of a NumPy array.\n",
    "\n",
    "What is pandas Series ???\n",
    "\n",
    "= > It is basically a equivalent to a numpy array but with column name or index names.\n",
    "\n",
    "To force a numpy array : \n",
    "\n",
    "self.weights = np.zeros(x_train.shape[1]) # # → array([0., 0.])"
   ]
  }
 ],
 "metadata": {
  "kernelspec": {
   "display_name": "Python 3 (ipykernel)",
   "language": "python",
   "name": "python3"
  },
  "language_info": {
   "codemirror_mode": {
    "name": "ipython",
    "version": 3
   },
   "file_extension": ".py",
   "mimetype": "text/x-python",
   "name": "python",
   "nbconvert_exporter": "python",
   "pygments_lexer": "ipython3",
   "version": "3.11.4"
  },
  "widgets": {
   "application/vnd.jupyter.widget-state+json": {
    "state": {},
    "version_major": 2,
    "version_minor": 0
   }
  }
 },
 "nbformat": 4,
 "nbformat_minor": 5
}
